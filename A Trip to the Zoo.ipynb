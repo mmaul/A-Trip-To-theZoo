{
 "cells": [
  {
   "cell_type": "markdown",
   "metadata": {},
   "source": [
    "\n",
    "\n",
    "theZoo is a curated Malware repository along with a metadata database and command line interface.\n",
    "\n",
    "There are fresher sources out there but it does provide quite alot out of the box that is good for learning.\n",
    "\n",
    "The metadata is usefule, providing some info about the sameple and there are soume source code samples.\n",
    "\n",
    "Okay so getting started...\n",
    "\n",
    "You could just download it as a Zip file from github at https://github.com/ytisf/theZoo/archive/master.zip\n",
    "\n",
    "Or you could just clone it with Git, that's what a real hacer would do...\n",
    "\n"
   ]
  },
  {
   "cell_type": "code",
   "execution_count": 2,
   "metadata": {},
   "outputs": [
    {
     "name": "stdout",
     "output_type": "stream",
     "text": [
      "Cloning into 'theZoo'...\n",
      "remote: Counting objects: 2137, done.\u001b[K\n",
      "remote: Total 2137 (delta 0), reused 0 (delta 0), pack-reused 2137\u001b[K\n",
      "Receiving objects: 100% (2137/2137), 604.27 MiB | 4.55 MiB/s, done.\n",
      "Resolving deltas: 100% (533/533), done.\n"
     ]
    }
   ],
   "source": [
    "!git clone https://github.com/ytisf/theZoo.git"
   ]
  },
  {
   "cell_type": "markdown",
   "metadata": {},
   "source": [
    "Okay we got the code. So the app it comes with is a python application. The app is not extremely usefull but allows the update of the malware database and displays information about the malware samples which is useful. \n",
    "\n",
    "You start the app with:\n",
    "```python theZoo.py```\n",
    "\n",
    "Some examples of using the app are below:\n",
    "![title](img/Screenshot from 2018-06-21 22-09-31.png)\n",
    "\n",
    "\n",
    "![title](img/Screenshot from 2018-06-21 22-09-58.png)\n",
    "\n",
    "\n",
    "![title](img/Screenshot from 2018-06-21 22-10-50.png)\n",
    "\n",
    "\n",
    "![title](img/Screenshot from 2018-06-21 22-11-43.png)\n",
    "\n",
    "\n",
    "![title](img/Screenshot from 2018-06-21 22-13-45.png)\n",
    "\n",
    "So that's most of the usefule functionality but you kind of get the idea of whata the app can provide.\n",
    "\n",
    "So lets look at contents"
   ]
  },
  {
   "cell_type": "code",
   "execution_count": 6,
   "metadata": {},
   "outputs": [
    {
     "name": "stdout",
     "output_type": "stream",
     "text": [
      "conf  imports  malwares  prep_file.py  README.md  requirements.txt  theZoo.py\r\n"
     ]
    }
   ],
   "source": [
    "!ls theZoo"
   ]
  },
  {
   "cell_type": "markdown",
   "metadata": {},
   "source": [
    "So the samples are in the malwares directory. There are two directories for malware sources and binaries"
   ]
  },
  {
   "cell_type": "code",
   "execution_count": 7,
   "metadata": {},
   "outputs": [
    {
     "name": "stdout",
     "output_type": "stream",
     "text": [
      "Binaries  Source\r\n"
     ]
    }
   ],
   "source": [
    "!ls theZoo/malwares"
   ]
  },
  {
   "cell_type": "markdown",
   "metadata": {},
   "source": [
    "So the malware names match up with the listings in the app"
   ]
  },
  {
   "cell_type": "code",
   "execution_count": 8,
   "metadata": {},
   "outputs": [
    {
     "name": "stdout",
     "output_type": "stream",
     "text": [
      "Android.Skygofree\r\n",
      "Android.Spy.49_iBanking_Feb2014\r\n",
      "Android.VikingHorde\r\n",
      "AndroRat_6Dec2013\r\n",
      "Artemis\r\n",
      "Backdoor.MSIL.Tyupkin\r\n",
      "BlackEnergy2.1\r\n",
      "Careto_Feb2014\r\n",
      "CryptoLocker_10Sep2013\r\n",
      "CryptoLocker_20Nov2013\r\n"
     ]
    }
   ],
   "source": [
    "!ls theZoo/malwares/Binaries | head"
   ]
  },
  {
   "cell_type": "markdown",
   "metadata": {},
   "source": [
    "So the malwares match the names in the app.\n",
    "The sample is in a password evcrypted Zip. Lets look at the sample dir"
   ]
  },
  {
   "cell_type": "code",
   "execution_count": 9,
   "metadata": {
    "scrolled": true
   },
   "outputs": [
    {
     "name": "stdout",
     "output_type": "stream",
     "text": [
      "BlackEnergy2.1.md5   BlackEnergy2.1.sha256\r\n",
      "BlackEnergy2.1.pass  BlackEnergy2.1.zip\r\n"
     ]
    }
   ],
   "source": [
    "!ls theZoo/malwares/Binaries/BlackEnergy2.1"
   ]
  },
  {
   "cell_type": "markdown",
   "metadata": {},
   "source": [
    "The password for the zip is in the .pass file"
   ]
  },
  {
   "cell_type": "code",
   "execution_count": 11,
   "metadata": {},
   "outputs": [
    {
     "name": "stdout",
     "output_type": "stream",
     "text": [
      "infected \r\n"
     ]
    }
   ],
   "source": [
    "!cat theZoo/malwares/Binaries/BlackEnergy2.1/BlackEnergy2.1.pass"
   ]
  },
  {
   "cell_type": "markdown",
   "metadata": {},
   "source": [
    "Now lets extract the files in the temp directory"
   ]
  },
  {
   "cell_type": "code",
   "execution_count": 12,
   "metadata": {},
   "outputs": [
    {
     "name": "stdout",
     "output_type": "stream",
     "text": [
      "Archive:  theZoo/malwares/Binaries/BlackEnergy2.1/BlackEnergy2.1.zip\r\n",
      "  inflating: /tmp/rootkit.ex1        \r\n"
     ]
    }
   ],
   "source": [
    "!unzip -P infected -d /tmp theZoo/malwares/Binaries/BlackEnergy2.1/BlackEnergy2.1.zip"
   ]
  },
  {
   "cell_type": "markdown",
   "metadata": {},
   "source": [
    "Now we have the contents of the malware and we can begin our exploration, and this is where your journey begins. Look at the sample in Virus Total, online sandboxes explode it in a cuckoo sandbox...\n",
    "\n",
    "\n",
    "It is up to you now"
   ]
  },
  {
   "cell_type": "code",
   "execution_count": null,
   "metadata": {},
   "outputs": [],
   "source": []
  }
 ],
 "metadata": {
  "kernelspec": {
   "display_name": "Python 3",
   "language": "python",
   "name": "python3"
  },
  "language_info": {
   "codemirror_mode": {
    "name": "ipython",
    "version": 3
   },
   "file_extension": ".py",
   "mimetype": "text/x-python",
   "name": "python",
   "nbconvert_exporter": "python",
   "pygments_lexer": "ipython3",
   "version": "3.6.5"
  }
 },
 "nbformat": 4,
 "nbformat_minor": 2
}
